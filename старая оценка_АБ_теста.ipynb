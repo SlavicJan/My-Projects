{
  "nbformat": 4,
  "nbformat_minor": 0,
  "metadata": {
    "colab": {
      "provenance": [],
      "authorship_tag": "ABX9TyOiXJqseuh/NwdTZTmAETRE",
      "include_colab_link": true
    },
    "kernelspec": {
      "name": "python3",
      "display_name": "Python 3"
    },
    "language_info": {
      "name": "python"
    }
  },
  "cells": [
    {
      "cell_type": "markdown",
      "metadata": {
        "id": "view-in-github",
        "colab_type": "text"
      },
      "source": [
        "<a href=\"https://colab.research.google.com/github/SlavicJan/My-Projects/blob/main/%D0%BE%D1%86%D0%B5%D0%BD%D0%BA%D0%B0_%D0%90%D0%91_%D1%82%D0%B5%D1%81%D1%82%D0%B0.ipynb\" target=\"_parent\"><img src=\"https://colab.research.google.com/assets/colab-badge.svg\" alt=\"Open In Colab\"/></a>"
      ]
    },
    {
      "cell_type": "code",
      "source": [
        "# df = pd.read_parquet(\"task_3_events.parquet\")\n",
        "# df.to_csv(\"task_3_events.csv\", index=False)"
      ],
      "metadata": {
        "id": "MS6XYhF2tJFp"
      },
      "execution_count": 3,
      "outputs": []
    },
    {
      "cell_type": "code",
      "execution_count": 9,
      "metadata": {
        "colab": {
          "base_uri": "https://localhost:8080/"
        },
        "id": "PuA7F-vEZSBi",
        "outputId": "2190111c-b36d-40fd-c043-0b711a82e238"
      },
      "outputs": [
        {
          "output_type": "stream",
          "name": "stdout",
          "text": [
            "conversion rates:\n",
            " ab_group\n",
            "0    0.246736\n",
            "1    0.250034\n",
            "Name: user_id, dtype: float64\n",
            "z=-0.46, p-value=0.642\n"
          ]
        }
      ],
      "source": [
        "import pandas as pd\n",
        "from statsmodels.stats.proportion import proportions_ztest\n",
        "\n",
        "# 1. загрузка данных и сортировка\n",
        "df = pd.read_parquet('task_3_events.parquet')\n",
        "df = df.sort_values(['user_id','time'])\n",
        "\n",
        "# 2. определяем начало новой сессии (больше 30 мин с предыдущего события)\n",
        "df['prev_time'] = df.groupby('user_id')['time'].shift()\n",
        "df['new_sess'] = (df['time'] - df['prev_time'] > pd.Timedelta('30min')) | df['prev_time'].isna()\n",
        "df['session_id'] = df.groupby('user_id')['new_sess'].cumsum()\n",
        "\n",
        "# 3. агрегируем старт и конец сессии, дату, группу\n",
        "sess = (\n",
        "    df.groupby(['user_id','session_id'])\n",
        "      .agg(ab_group=('user_group','first'),\n",
        "           session_start=('time','min'),\n",
        "           session_end=('time','max'))\n",
        "      .reset_index()\n",
        ")\n",
        "sess['session_date'] = sess['session_start'].dt.date\n",
        "\n",
        "# 4. нумеруем сессии по пользователю\n",
        "sess = sess.sort_values(['user_id','session_start'])\n",
        "sess['rn'] = sess.groupby('user_id').cumcount() + 1\n",
        "\n",
        "# 5. считаем конверсию в 2-ю сессию по группам\n",
        "first = sess[sess['rn']==1].groupby('ab_group')['user_id'].nunique()\n",
        "second = sess[sess['rn']==2].groupby('ab_group')['user_id'].nunique()\n",
        "conv_rate = (second / first).fillna(0)\n",
        "\n",
        "# 6. тест на разницу пропорций\n",
        "count = second.values\n",
        "nobs  = first.values\n",
        "z, p = proportions_ztest(count, nobs)\n",
        "\n",
        "print('conversion rates:\\n', conv_rate)\n",
        "print(f'z={z:.2f}, p-value={p:.3f}')\n"
      ]
    },
    {
      "cell_type": "markdown",
      "source": [
        "В группе A конверсия во вторую сессию ≈ 24,67%, в группе B ≈ 25,00%.\n",
        "\n",
        "p-value = 0.642 сильно выше 0.05, значит статистически значимой разницы нет.\n",
        "\n",
        "Победителя в эксперименте определить нельзя — обе группы показали примерно одинаковый результат."
      ],
      "metadata": {
        "id": "n1dUYl1ucNQ8"
      }
    },
    {
      "cell_type": "markdown",
      "source": [
        "– обе группы A и B показали почти одинаковую конверсию во вторую сессию (24.67% vs 25.00%), статистически значимой разницы нет.  \n",
        "– формально мы не отвергаем нулевую гипотезу «нет эффекта от изменения».\n",
        "\n",
        "строим доверительные интервалы для разницы пропорций  \n",
        "\n"
      ],
      "metadata": {
        "id": "HW9qNZEgdJRj"
      }
    },
    {
      "cell_type": "code",
      "source": [
        "from statsmodels.stats.proportion import proportion_confint\n",
        "\n",
        "# доверительные интервалы по каждой группе\n",
        "ci1_low,  ci1_high  = proportion_confint(second[0], nobs[0], method='wilson')\n",
        "ci2_low,  ci2_high  = proportion_confint(second[1], nobs[1], method='wilson')\n",
        "\n",
        "# для разницы пропорций примерно:\n",
        "import numpy as np\n",
        "diff = conv_rate[1] - conv_rate[0]\n",
        "se = np.sqrt(conv_rate[0]*(1-conv_rate[0])/nobs[0] + conv_rate[1]*(1-conv_rate[1])/nobs[1])\n",
        "ci_diff = (diff - 1.96*se, diff + 1.96*se)\n",
        "\n",
        "print('A CI:', (ci1_low, ci1_high))\n",
        "print('B CI:', (ci2_low, ci2_high))\n",
        "print('diff CI:', ci_diff)"
      ],
      "metadata": {
        "id": "lYfElK9uciK1",
        "colab": {
          "base_uri": "https://localhost:8080/"
        },
        "outputId": "456e8ab8-55ab-448e-b39a-edc1f1189451"
      },
      "execution_count": 5,
      "outputs": [
        {
          "output_type": "stream",
          "name": "stdout",
          "text": [
            "A CI: (0.23706500965695765, 0.25666830608134905)\n",
            "B CI: (0.2402982837649746, 0.26002871626924373)\n",
            "diff CI: (np.float64(-0.010611259415786917), np.float64(0.017207305626715325))\n"
          ]
        }
      ]
    },
    {
      "cell_type": "markdown",
      "source": [
        "   – если ноль попадает в интервал разницы, эффект действительно «нулевой».\n",
        "   Если доверительный интервал (CI) для разницы между группами включает 0, это означает, что на уровне выбранного доверия (обычно 95 %) мы не можем отвергнуть гипотезу об отсутствии эффекта. Проще говоря, «нулевая» разница между экспериментальной и контрольной группой лежит в пределах диапазона, который мы считаем правдоподобным, поэтому статистически значимого эффекта не выявлено.\n",
        "\n",
        "Группа B чуть лучше по основной метрике, но без статистической значимости. Рекомендуется либо увеличить выборку/продолжительность теста, либо переключиться на другие ключевые метрики (retention, LTV, revenue per session) для следующего цикла экспериментов.\n",
        "\n",
        "\n",
        "оценить мощность теста (power analysis)  \n",
        "   – убедиться, что у нас достаточно пользователей, чтобы выявить, скажем, 1–2% uplift.  \n",
        "\n",
        "визуализируем траекторию сессий  \n",
        "   – построим кумулятивные кривые второй сессии по дням от старта теста.  \n",
        "\n"
      ],
      "metadata": {
        "id": "cx6YMvLwclyI"
      }
    },
    {
      "cell_type": "markdown",
      "source": [
        "# Оценка мощности A/B-теста на Python\n",
        "– убедиться, что у нас достаточно пользователей, чтобы выявить, скажем, 1–2% uplift."
      ],
      "metadata": {
        "id": "JGTQaaxf2CiL"
      }
    },
    {
      "cell_type": "code",
      "source": [
        "# from statsmodels.stats.power import NormalIndPower\n",
        "# from statsmodels.stats.proportion import proportion_effectsize\n",
        "# # 1. Базовая конверсия и текущий размер выборки\n",
        "# p1 = z\n",
        "# n1 = 7260\n",
        "# n_current = 7260\n",
        "\n",
        "# # 2. Цели uplift и уровень значимости/мощности\n",
        "# uplifts = [0.01, 0.02]        # 1% и 2% uplift\n",
        "# alpha   = 0.05                # уровень значимости\n",
        "# power_t = 0.80                # желаемая мощность (1 − β)\n",
        "\n",
        "# # 3. Экземпляр анализатора мощности\n",
        "# power_analysis = NormalIndPower()\n",
        "\n",
        "# 1. Группировка по первой и второй сессии\n",
        "first = sess[sess['rn'] == 1] \\\n",
        "            .groupby('ab_group')['user_id'] \\\n",
        "            .nunique()\n",
        "second = sess[sess['rn'] == 2] \\\n",
        "             .groupby('ab_group')['user_id'] \\\n",
        "             .nunique()\n",
        "\n",
        "# 2. Конверсия во вторую сессию\n",
        "conv_rate = (second / first).fillna(0)\n",
        "\n",
        "# 3. Извлекаем параметры для группы A (ab_group == 0)\n",
        "p1 = conv_rate.loc[0]      # ≈ 0.2467\n",
        "n1 = first.loc[0]          # ≈ 7260 пользователей\n",
        "\n",
        "# (При желании можно отдельно получить p2 и n2 для группы B)\n",
        "p2 = conv_rate.loc[1]\n",
        "n2 = first.loc[1]\n",
        "\n",
        "# # 4. Подбираем уровень значимости/мощности\n",
        "# uplifts = [0.01, 0.02]        # 1% и 2% uplift\n",
        "# alpha   = 0.05                # уровень значимости\n",
        "# power_t = 0.80                # желаемая мощность (1 − β)\n",
        "\n",
        "import numpy as np\n",
        "from statsmodels.stats.power import NormalIndPower\n",
        "from statsmodels.stats.proportion import proportion_effectsize\n",
        "\n",
        "alpha     = 0.05\n",
        "power_t   = 0.80\n",
        "uplifts   = [0.01, 0.02]   # 1% и 2% uplift\n",
        "\n",
        "power_analysis = NormalIndPower()\n",
        "\n",
        "results = []\n",
        "for d in uplifts:\n",
        "    # эффект для target p2 = p1 + d\n",
        "    effect_size = proportion_effectsize(p1, p1 + d)\n",
        "\n",
        "    # рассчитываем необходимый n на группу\n",
        "    n_req = power_analysis.solve_power(\n",
        "        effect_size=effect_size,\n",
        "        power=power_t,\n",
        "        alpha=alpha,\n",
        "        ratio=1,\n",
        "        alternative='two-sided'\n",
        "    )\n",
        "\n",
        "    results.append({\n",
        "        'uplift (%)': int(d * 100),\n",
        "        'n_required_per_group': int(np.ceil(n_req))\n",
        "    })\n",
        "\n",
        "import pandas as pd\n",
        "df_req = pd.DataFrame(results)\n",
        "print(df_req)\n",
        "\n",
        "# Опционально: текущая мощность для Δ=1%\n",
        "effect_1 = proportion_effectsize(p1, p1 + 0.01)\n",
        "current_power = power_analysis.power(\n",
        "    effect_size=effect_1,\n",
        "    nobs1=n1,\n",
        "    alpha=alpha,\n",
        "    ratio=1,\n",
        "    alternative='two-sided'\n",
        ")\n",
        "print(f\"Текущая мощность при Δ=1%: {current_power:.2%}\")\n"
      ],
      "metadata": {
        "colab": {
          "base_uri": "https://localhost:8080/"
        },
        "id": "AWclA6bX2XVj",
        "outputId": "9b4f5f98-7ee4-48db-db86-c39f38432a00"
      },
      "execution_count": 21,
      "outputs": [
        {
          "output_type": "stream",
          "name": "stdout",
          "text": [
            "   uplift (%)  n_required_per_group\n",
            "0           1                 29567\n",
            "1           2                  7487\n",
            "Текущая мощность при Δ=1%: 28.96%\n"
          ]
        }
      ]
    },
    {
      "cell_type": "markdown",
      "source": [
        "# визуализируем траекторию сессий  \n",
        "   – построим кумулятивные кривые второй сессии по дням от старта теста.  "
      ],
      "metadata": {
        "id": "XKWtRz7M4RbQ"
      }
    },
    {
      "cell_type": "code",
      "source": [
        "# prompt: визуализируем траекторию сессий\n",
        "# – построим кумулятивные кривые второй сессии по дням от старта теста.\n",
        "\n",
        "import matplotlib.pyplot as plt\n",
        "import seaborn as sns\n",
        "import pandas as pd\n",
        "\n",
        "# 7. фильтруем сессии 1 и 2\n",
        "sess_filtered = sess[sess['rn'].isin([1, 2])].copy()\n",
        "\n",
        "# Convert 'session_date' to datetime objects\n",
        "sess_filtered['session_date'] = pd.to_datetime(sess_filtered['session_date'])\n",
        "\n",
        "# 8. определяем дату старта теста (можно взять минимальную дату сессии)\n",
        "start_date = sess_filtered['session_date'].min()\n",
        "\n",
        "# 9. считаем дни от старта теста\n",
        "sess_filtered['days_from_start'] = (sess_filtered['session_date'] - start_date).dt.days\n",
        "\n",
        "# 10. группируем по дням от старта, группе и номеру сессии, считаем уникальных пользователей\n",
        "daily_users = sess_filtered.groupby(['days_from_start', 'ab_group', 'rn'])['user_id'].nunique().reset_index()\n",
        "\n",
        "# 11. для каждой группы и номера сессии считаем кумулятивное число пользователей\n",
        "cumulative_users = daily_users.sort_values(['ab_group', 'rn', 'days_from_start']).copy()\n",
        "cumulative_users['cumulative_users'] = cumulative_users.groupby(['ab_group', 'rn'])['user_id'].cumsum()\n",
        "\n",
        "# 12. строим кумулятивные кривы\n",
        "\n",
        "# 13. фильтруем только 1-ю и 2-ю сессии для расчета кумулятивной конверсии\n",
        "cumulative_conversion_data = cumulative_users[cumulative_users['rn'].isin([1, 2])].copy()\n",
        "\n",
        "# 14. рассчитываем кумулятивную конверсию во 2-ю сессию (Кумулятивные 2-я сессия / Кумулятивные 1-я сессия)\n",
        "# Необходимо убедиться, что кумулятивные пользователи для rn=1 существуют для каждого дня\n",
        "# Сначала получим кумулятивных пользователей для первой сессии\n",
        "cumulative_first_session = cumulative_conversion_data[cumulative_conversion_data['rn'] == 1] \\\n",
        "    .rename(columns={'cumulative_users': 'cumulative_first_users'})[['days_from_start', 'ab_group', 'cumulative_first_users']]\n",
        "\n",
        "# Объединяем данные второй сессии с данными первой сессии\n",
        "cumulative_conversion_data = cumulative_conversion_data[cumulative_conversion_data['rn'] == 2] \\\n",
        "    .merge(cumulative_first_session, on=['days_from_start', 'ab_group'], how='left')\n",
        "\n",
        "# Считаем кумулятивную конверсию\n",
        "cumulative_conversion_data['cumulative_conversion'] = cumulative_conversion_data['cumulative_users'] / cumulative_conversion_data['cumulative_first_users']\n",
        "\n",
        "# 15. строим кумулятивные кривые конверсии во 2-ю сессию\n",
        "plt.figure(figsize=(12, 6))\n",
        "sns.lineplot(data=cumulative_conversion_data, x='days_from_start', y='cumulative_conversion', hue='ab_group')\n",
        "plt.title('Кумулятивная конверсия во 2-ю сессию по дням от старта теста')\n",
        "plt.xlabel('Дни от старта теста')\n",
        "plt.ylabel('Кумулятивная конверсия')\n",
        "plt.grid(True)\n",
        "plt.show()"
      ],
      "metadata": {
        "colab": {
          "base_uri": "https://localhost:8080/",
          "height": 564
        },
        "id": "nsfFLjgn46dU",
        "outputId": "c89a8b03-1156-408b-d5f8-dc6e72be5cd4"
      },
      "execution_count": 23,
      "outputs": [
        {
          "output_type": "display_data",
          "data": {
            "text/plain": [
              "<Figure size 1200x600 with 1 Axes>"
            ],
            "image/png": "[encoded data removed]"
          },
          "metadata": {}
        }
      ]
    },
    {
      "cell_type": "markdown",
      "source": [
        "<!-- # copilot_code = '''\n",
        "import pandas as pd\n",
        "import matplotlib.pyplot as plt\n",
        "\n",
        "# 1. Загрузка и сортировка исходных событий\n",
        "df = pd.read_parquet('task_3_events.parquet')\n",
        "df = df.sort_values(['user_id', 'time'])\n",
        "\n",
        "# 2. Выделение сессий (интервал > 30 минут — новая сессия)\n",
        "df['prev_time'] = df.groupby('user_id')['time'].shift()\n",
        "df['new_sess'] = (\n",
        "    (df['time'] - df['prev_time'] > pd.Timedelta('30min'))\n",
        "    | df['prev_time'].isna()\n",
        ")\n",
        "df['session_id'] = df.groupby('user_id')['new_sess'].cumsum()\n",
        "\n",
        "# 3. Агрегация по сессиям: id, группа, начало, номер сессии\n",
        "sess = (\n",
        "    df.groupby(['user_id', 'session_id'])\n",
        "      .agg(\n",
        "        ab_group       = ('user_group', 'first'),\n",
        "        session_start  = ('time', 'min')\n",
        "      )\n",
        "      .reset_index()\n",
        ")\n",
        "sess['rn'] = sess.groupby('user_id').cumcount() + 1\n",
        "sess['session_date'] = sess['session_start'].dt.date\n",
        "\n",
        "# 4. Оставляем только вторые сессии\n",
        "second = sess[sess['rn'] == 2].copy()\n",
        "\n",
        "# 5. Считаем число уникальных пользователей с 2-й сессией каждый день и по группе\n",
        "daily = (\n",
        "    second\n",
        "    .groupby(['session_date', 'ab_group'])['user_id']\n",
        "    .nunique()\n",
        "    .reset_index(name='daily_count')\n",
        ")\n",
        "\n",
        "# 6. Pivot + кумулятивная сумма\n",
        "pivot = (\n",
        "    daily\n",
        "    .pivot(index='session_date', columns='ab_group', values='daily_count')\n",
        "    .fillna(0)\n",
        "    .sort_index()\n",
        ")\n",
        "cum = pivot.cumsum()  # по умолчанию суммирует по столбцам\n",
        "\n",
        "# 7. Визуализация\n",
        "plt.figure(figsize=(10, 6))\n",
        "plt.plot(cum.index, cum.get(0, 0), marker='o', label='Group A')\n",
        "plt.plot(cum.index, cum.get(1, 0), marker='o', label='Group B')\n",
        "\n",
        "plt.title('Cumulative 2nd-Session Users by Day')\n",
        "plt.xlabel('Date')\n",
        "plt.ylabel('Cumulative Unique Users')\n",
        "plt.xticks(rotation=45)\n",
        "plt.grid(True)\n",
        "plt.legend()\n",
        "plt.tight_layout()\n",
        "plt.show() -->"
      ],
      "metadata": {
        "id": "XbAuOcJW6s4j"
      }
    },
    {
      "cell_type": "markdown",
      "source": [
        "Описание графика\n",
        "График показывает кумулятивную конверсию во вторую сессию по дням от старта A/B-теста для групп 0 (синяя линия) и 1 (оранжевая линия).\n",
        "По оси X — дни от начала эксперимента (1…13).\n",
        "\n",
        "По оси Y — накопленная конверсия (доля пользователей, вернувшихся во 2-ю сессию) нарастающим итогом.\n",
        "\n",
        "Синяя линия стабильно чуть выше оранжевой, но разница невелика."
      ],
      "metadata": {
        "id": "VwN6Oc398QKx"
      }
    },
    {
      "cell_type": "markdown",
      "source": [
        "# Интерпретация\n",
        "Оба сегмента демонстрируют равномерный рост конверсии с первых суток, без резких всплесков или провалов.\n",
        "\n",
        "Начиная с 5–6 дня кривая начинает выпрямляться, что говорит о том, что пик возвращений пользователей во вторую сессию пройден.\n",
        "\n",
        "На 13-й день накопленная конверсия группы 0 ≈ 24.7 %, группы 1 ≈ 25.0 % (согласно предыдущим расчётам).\n",
        "\n",
        "Небольшое отставание группы 1 на ранних днях выравнивается к концу, что согласуется с высоким p-value теста пропорций."
      ],
      "metadata": {
        "id": "louscnWg8U_D"
      }
    }
  ]
}